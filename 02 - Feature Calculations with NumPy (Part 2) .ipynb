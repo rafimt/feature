{
 "cells": [
  {
   "cell_type": "markdown",
   "metadata": {},
   "source": [
    "# 02 - Feature Calculations with NumPy \n"
   ]
  },
  {
   "cell_type": "markdown",
   "metadata": {},
   "source": [
    "**Load the point clouds.**"
   ]
  },
  {
   "cell_type": "code",
   "execution_count": 1,
   "metadata": {},
   "outputs": [
    {
     "name": "stdout",
     "output_type": "stream",
     "text": [
      "./Vaihingen3DTraining.las\n"
     ]
    }
   ],
   "source": [
    "\n",
    "\n",
    "filepath = './Vaihingen3DTraining.las'\n",
    "\n",
    "print(filepath)"
   ]
  },
  {
   "cell_type": "markdown",
   "metadata": {},
   "source": [
    "**Extract and stack x,y,z from LAS file.**"
   ]
  },
  {
   "cell_type": "code",
   "execution_count": 2,
   "metadata": {},
   "outputs": [
    {
     "name": "stdout",
     "output_type": "stream",
     "text": [
      "(753876, 3)\n"
     ]
    }
   ],
   "source": [
    "import laspy\n",
    "import numpy as np\n",
    "\n",
    "file = laspy.read(filepath)\n",
    "\n",
    "xyz = np.stack((file.x, file.y, file.z), axis=1)\n",
    "\n",
    "print(xyz.shape)"
   ]
  },
  {
   "cell_type": "markdown",
   "metadata": {},
   "source": [
    "**Compute eigenvalues and eigenvectors.**\n",
    "\n"
   ]
  },
  {
   "cell_type": "code",
   "execution_count": 3,
   "metadata": {},
   "outputs": [
    {
     "name": "stdout",
     "output_type": "stream",
     "text": [
      "(753876, 3)\n"
     ]
    }
   ],
   "source": [
    "print(xyz.shape)"
   ]
  },
  {
   "cell_type": "code",
   "execution_count": 4,
   "metadata": {},
   "outputs": [],
   "source": [
    "from sklearn.neighbors import KDTree\n",
    "\n",
    "# building the kd tree from the points of the point cloud\n",
    "kd_tree_3d = KDTree(xyz)\n",
    "\n",
    "# query for each point the k nearest neighbor points\n",
    "distances3d, indices3d = kd_tree_3d.query(xyz, k=20)\n",
    "\n",
    "# build the covariance matrix of neighbor points\n",
    "xyz_minus_mean = xyz[indices3d] - np.mean(xyz[indices3d], axis=1)[:, np.newaxis, :]\n",
    "xyz_xyz = np.matmul(np.transpose(xyz_minus_mean, axes=(0, 2, 1)), xyz_minus_mean)\n",
    "xyz_cov = xyz_xyz / 19.0\n",
    "\n",
    "# construct arrays to store eigenvalues and eigenvectors in\n",
    "w = np.zeros((np.shape(xyz)[0], 3))\n",
    "v = np.zeros((np.shape(xyz)[0], 3, 3))\n",
    "\n",
    "for i in range(xyz.shape[0]):\n",
    "    w[i], v[i,:] = np.linalg.eig(xyz_cov[i])\n",
    "    \n",
    "# sort eigenvalues and eigenvectors\n",
    "idx = np.flip(np.argsort(w), axis=1)\n",
    "w = np.take_along_axis(w, idx, axis=1)\n",
    "v = np.take_along_axis(v, idx[:, :, np.newaxis], axis=1)    \n",
    "    \n",
    "# normalize eigenvalues\n",
    "eigenvalues = w / np.sum(w, axis=-1)[:, np.newaxis]    \n",
    "    \n",
    "# make sure eigenvalues are greater than 0.0\n",
    "eigenvalues[eigenvalues <= np.finfo(np.float32).eps] = np.finfo(np.float32).eps\n",
    "\n",
    "# normalize the eigenvectors\n",
    "eigenvectors = v / np.linalg.norm(v, axis=-1)[:,:,np.newaxis]    "
   ]
  },
  {
   "cell_type": "code",
   "execution_count": 5,
   "metadata": {},
   "outputs": [
    {
     "name": "stdout",
     "output_type": "stream",
     "text": [
      "(753876, 3)\n",
      "(753876, 3, 3)\n",
      "(753876, 1)\n"
     ]
    }
   ],
   "source": [
    "print(w.shape)\n",
    "print(v.shape)\n",
    "print(np.sum(w, axis=-1)[:, np.newaxis].shape)"
   ]
  },
  {
   "cell_type": "markdown",
   "metadata": {},
   "source": [
    "# Mathematical (vectorized) functions in NumPy"
   ]
  },
  {
   "cell_type": "markdown",
   "metadata": {},
   "source": [
    "# Eigenvalue based 3D features"
   ]
  },
  {
   "cell_type": "code",
   "execution_count": 6,
   "metadata": {
    "scrolled": true
   },
   "outputs": [
    {
     "name": "stdout",
     "output_type": "stream",
     "text": [
      "(753876, 1)\n"
     ]
    }
   ],
   "source": [
    "# eigenvalues lambda 1\n",
    "l1 = eigenvalues[:,0][:,np.newaxis]\n",
    "\n",
    "# eigenvalues lambda 2\n",
    "l2 = eigenvalues[:,1][:,np.newaxis]\n",
    "\n",
    "# eigenvalues lambda 3\n",
    "l3 = eigenvalues[:,2][:,np.newaxis]\n",
    "print(l1.shape)"
   ]
  },
  {
   "cell_type": "markdown",
   "metadata": {},
   "source": [
    "**Linearity:** $L_\\lambda = \\frac{\\lambda_1 - \\lambda_2}{\\lambda_1}$\n"
   ]
  },
  {
   "cell_type": "code",
   "execution_count": 7,
   "metadata": {},
   "outputs": [
    {
     "name": "stdout",
     "output_type": "stream",
     "text": [
      "(753876, 1)\n"
     ]
    }
   ],
   "source": [
    "linearity = (l1-l2)/l1\n",
    "print(linearity.shape)"
   ]
  },
  {
   "cell_type": "markdown",
   "metadata": {},
   "source": [
    "**Planarity:** $P_\\lambda = \\frac{\\lambda_2 - \\lambda_3}{\\lambda_1}$"
   ]
  },
  {
   "cell_type": "code",
   "execution_count": 8,
   "metadata": {},
   "outputs": [
    {
     "name": "stdout",
     "output_type": "stream",
     "text": [
      "(753876, 1)\n"
     ]
    }
   ],
   "source": [
    "planarity = (l2-l3)/l1\n",
    "print(planarity.shape)"
   ]
  },
  {
   "cell_type": "markdown",
   "metadata": {},
   "source": [
    "**Scattering** (or sphericity)**:** $S_\\lambda = \\frac{\\lambda_3}{\\lambda_1}$"
   ]
  },
  {
   "cell_type": "code",
   "execution_count": 9,
   "metadata": {},
   "outputs": [
    {
     "name": "stdout",
     "output_type": "stream",
     "text": [
      "(753876, 1)\n"
     ]
    }
   ],
   "source": [
    "scattering = l3/l1\n",
    "print(scattering.shape)"
   ]
  },
  {
   "cell_type": "markdown",
   "metadata": {},
   "source": [
    "**Omnivariance:** $O_\\lambda = \\sqrt[3]{\\lambda_1 \\lambda_2 \\lambda_3}$\n",
    "\n",
    "or $O_\\lambda = \\sqrt[3]{\\prod\\limits_{i=1}^3 \\lambda_i}$\n"
   ]
  },
  {
   "cell_type": "code",
   "execution_count": 10,
   "metadata": {},
   "outputs": [
    {
     "name": "stdout",
     "output_type": "stream",
     "text": [
      "(753876, 1)\n"
     ]
    }
   ],
   "source": [
    "omnivariance = np.cbrt(l1*l2*l3)\n",
    "print(omnivariance.shape)"
   ]
  },
  {
   "cell_type": "markdown",
   "metadata": {},
   "source": [
    "**Anisotropy:** $A_\\lambda = \\frac{\\lambda_1 - \\lambda_3}{\\lambda_1}$"
   ]
  },
  {
   "cell_type": "code",
   "execution_count": 11,
   "metadata": {},
   "outputs": [
    {
     "name": "stdout",
     "output_type": "stream",
     "text": [
      "(753876, 1)\n"
     ]
    }
   ],
   "source": [
    "anisotropy = (l1 - l3)/l1\n",
    "print(anisotropy.shape)"
   ]
  },
  {
   "cell_type": "markdown",
   "metadata": {},
   "source": [
    "**Eigenentropy:** $E_\\lambda = -\\sum\\limits_{i=1}^3{\\lambda_i \\ln(\\lambda_i) }$\n",
    "\n"
   ]
  },
  {
   "cell_type": "code",
   "execution_count": 12,
   "metadata": {},
   "outputs": [
    {
     "name": "stdout",
     "output_type": "stream",
     "text": [
      "(753876, 1)\n"
     ]
    }
   ],
   "source": [
    "eigenentropy = -(l1*np.log(l1) + l2*np.log(l2) + l3*np.log(l3))\n",
    "print(eigenentropy.shape)"
   ]
  },
  {
   "cell_type": "markdown",
   "metadata": {},
   "source": [
    "**Sum of eigenvalues:** $\\sum_\\lambda = \\lambda_1 + \\lambda_2 + \\lambda_3$\n",
    "\n",
    "or $\\sum_\\lambda = \\sum\\limits_{i=1}^3{\\lambda_i}$\n",
    "\n"
   ]
  },
  {
   "cell_type": "code",
   "execution_count": 13,
   "metadata": {},
   "outputs": [
    {
     "name": "stdout",
     "output_type": "stream",
     "text": [
      "(753876, 1)\n"
     ]
    }
   ],
   "source": [
    "\n",
    "sum_eigenvalues = np.sum(w,axis=-1)[:,np.newaxis]\n",
    "print(sum_eigenvalues.shape)"
   ]
  },
  {
   "cell_type": "markdown",
   "metadata": {},
   "source": [
    "**Change of curvature** (local surface variation)**:** $C_\\lambda = \\frac{\\lambda_3}{\\lambda_1 + \\lambda_2 + \\lambda_3}$\n",
    "\n",
    "or $C_\\lambda = \\frac{\\lambda_3}{\\sum\\limits_{i=1}^3 \\lambda_i}$"
   ]
  },
  {
   "cell_type": "code",
   "execution_count": 14,
   "metadata": {},
   "outputs": [
    {
     "name": "stdout",
     "output_type": "stream",
     "text": [
      "(753876, 1)\n"
     ]
    }
   ],
   "source": [
    "change_of_curvature = (l3/sum_eigenvalues)\n",
    "print(change_of_curvature.shape)"
   ]
  },
  {
   "cell_type": "markdown",
   "metadata": {},
   "source": [
    "# Geometric 3D features\n",
    "\n"
   ]
  },
  {
   "cell_type": "markdown",
   "metadata": {},
   "source": [
    "**Radius of kNN (k nearest neighbors):** $r_{\\text{kNN,3D}}$\n"
   ]
  },
  {
   "cell_type": "code",
   "execution_count": 15,
   "metadata": {},
   "outputs": [
    {
     "name": "stdout",
     "output_type": "stream",
     "text": [
      "(753876, 1)\n"
     ]
    }
   ],
   "source": [
    "radius_knn3d = distances3d[:,18:19]\n",
    "print(radius_knn3d.shape)"
   ]
  },
  {
   "cell_type": "markdown",
   "metadata": {},
   "source": [
    "**Local point density:** $D_{\\text{3D}} = \\frac{k+1}{\\frac{4}{3}\\pi r_{\\text{kNN,3D}}^3}$\n",
    "\n"
   ]
  },
  {
   "cell_type": "code",
   "execution_count": 16,
   "metadata": {},
   "outputs": [
    {
     "name": "stdout",
     "output_type": "stream",
     "text": [
      "(753876, 1)\n"
     ]
    }
   ],
   "source": [
    "k = 19.0\n",
    "density_3d = (k+1)/ (4/3)*np.pi*np.power(radius_knn3d,3.0)\n",
    "print(density_3d.shape)"
   ]
  },
  {
   "cell_type": "markdown",
   "metadata": {},
   "source": [
    "**Verticality:** $V = 1 - \\lvert n_Z \\rvert$\n",
    "\n"
   ]
  },
  {
   "cell_type": "code",
   "execution_count": 17,
   "metadata": {},
   "outputs": [
    {
     "name": "stdout",
     "output_type": "stream",
     "text": [
      "(753876, 1)\n"
     ]
    }
   ],
   "source": [
    "verticality = (1-np.abs(eigenvectors[:,2,2]))[:,np.newaxis]\n",
    "print(verticality.shape)"
   ]
  },
  {
   "cell_type": "markdown",
   "metadata": {},
   "source": [
    "**Absolute height:** $H = Z$\n",
    "\n"
   ]
  },
  {
   "cell_type": "code",
   "execution_count": 18,
   "metadata": {},
   "outputs": [
    {
     "name": "stdout",
     "output_type": "stream",
     "text": [
      "(753876, 1)\n"
     ]
    }
   ],
   "source": [
    "absolute_height = xyz[:,2:3]\n",
    "print(absolute_height.shape)"
   ]
  },
  {
   "cell_type": "markdown",
   "metadata": {},
   "source": [
    "**Height difference:** $\\Delta H_\\text{kNN,3D}$\n"
   ]
  },
  {
   "cell_type": "code",
   "execution_count": 19,
   "metadata": {},
   "outputs": [
    {
     "name": "stdout",
     "output_type": "stream",
     "text": [
      "(753876, 20, 1)\n",
      "(753876, 1)\n",
      "(753876, 1)\n"
     ]
    }
   ],
   "source": [
    "print(xyz[indices3d][:,:,2:3].shape)\n",
    "min_z =np.min(xyz[indices3d][:,:,2:3],axis =1)\n",
    "max_z = np.max(xyz[indices3d][:,:,2:3],axis =1)\n",
    "print(min_z.shape)\n",
    "delta_z_knn3d = max_z - min_z\n",
    "print(delta_z_knn3d.shape)"
   ]
  },
  {
   "cell_type": "markdown",
   "metadata": {},
   "source": [
    "**Standard deviation of height values:** $\\sigma H_\\text{kNN,3D}$\n"
   ]
  },
  {
   "cell_type": "code",
   "execution_count": 20,
   "metadata": {},
   "outputs": [
    {
     "name": "stdout",
     "output_type": "stream",
     "text": [
      "(753876, 1)\n",
      "(753876, 1)\n"
     ]
    },
    {
     "name": "stderr",
     "output_type": "stream",
     "text": [
      "C:\\Python310\\lib\\site-packages\\numpy\\core\\_methods.py:269: RuntimeWarning: Degrees of freedom <= 0 for slice\n",
      "  ret = _var(a, axis=axis, dtype=dtype, out=out, ddof=ddof,\n",
      "C:\\Python310\\lib\\site-packages\\numpy\\core\\_methods.py:258: RuntimeWarning: invalid value encountered in divide\n",
      "  ret = um.true_divide(\n"
     ]
    }
   ],
   "source": [
    "std_z = np.std(delta_z_knn3d,axis=1,ddof=1)[:,np.newaxis]\n",
    "print(std_z.shape)\n",
    "print(std_z.shape)"
   ]
  },
  {
   "cell_type": "markdown",
   "metadata": {},
   "source": [
    "# Eigenvalue based 2D features\n"
   ]
  },
  {
   "cell_type": "code",
   "execution_count": 21,
   "metadata": {},
   "outputs": [
    {
     "name": "stdout",
     "output_type": "stream",
     "text": [
      "(753876, 2)\n"
     ]
    }
   ],
   "source": [
    "print(xyz[:,0:2].shape)"
   ]
  },
  {
   "cell_type": "code",
   "execution_count": 22,
   "metadata": {},
   "outputs": [
    {
     "name": "stdout",
     "output_type": "stream",
     "text": [
      "(753876, 2, 2)\n",
      "(753876, 2)\n"
     ]
    }
   ],
   "source": [
    "xy= xyz[:,0:2]\n",
    "# kd_tree_3d = KDTree(xy)\n",
    "\n",
    "# query for each point the k nearest neighbor points\n",
    "# distances2d, indices2d = kd_tree_3d.query(xy, k=20)\n",
    "\n",
    "# build the covariance matrix of neighbor points\n",
    "xy_minus_mean = xy[indices3d] - np.mean(xy[indices3d], axis=1)[:, np.newaxis, :]\n",
    "xy_xy = np.matmul(np.transpose(xy_minus_mean, axes=(0, 2, 1)), xy_minus_mean)\n",
    "xy_cov = xy_xy / 19.0\n",
    "print(xy_cov.shape)\n",
    "\n",
    "# construct arrays to store eigenvalues and eigenvectors in\n",
    "w_2d = np.zeros((np.shape(xy)[0], 2))\n",
    "v_2d = np.zeros((np.shape(xy)[0], 2, 2))\n",
    "\n",
    "for i in range(xy.shape[0]):\n",
    "    w_2d[i], v_2d[i,:] = np.linalg.eig(xy_cov[i])\n",
    "    \n",
    "# # sort eigenvalues and eigenvectors\n",
    "idx = np.flip(np.argsort(w_2d), axis=1)\n",
    "w_2d = np.take_along_axis(w_2d, idx, axis=1)\n",
    "v_2d = np.take_along_axis(v_2d, idx[:, :, np.newaxis], axis=1)    \n",
    "    \n",
    "# # normalize eigenvalues\n",
    "eigenvalues2d = w_2d / np.sum(w, axis=-1)[:, np.newaxis]    \n",
    "    \n",
    "# # make sure eigenvalues are greater than 0.0\n",
    "eigenvalues[eigenvalues <= np.finfo(np.float32).eps] = np.finfo(np.float32).eps\n",
    "\n",
    "# # normalize the eigenvectors\n",
    "eigenvectors2d = v_2d / np.linalg.norm(v_2d, axis=-1)[:,:,np.newaxis] \n",
    "# eigenvalues2d = ...   \n",
    "# eigenvectors2d = ... \n",
    "print(eigenvalues2d.shape)"
   ]
  },
  {
   "cell_type": "markdown",
   "metadata": {},
   "source": [
    "**Sum of eigenvalues:** $\\sum_{\\lambda\\text{,2D}} = \\lambda_\\text{1,2D} + \\lambda_\\text{2,2D}$\n",
    "\n",
    "Remember to use the unnormalized eigenvalues for this feature and not the normalized ones."
   ]
  },
  {
   "cell_type": "code",
   "execution_count": 23,
   "metadata": {},
   "outputs": [
    {
     "name": "stdout",
     "output_type": "stream",
     "text": [
      "(753876, 1)\n"
     ]
    }
   ],
   "source": [
    "\n",
    "l1_2 = w_2d[:,0:1]\n",
    "l2_2 = w_2d[:,1:2]\n",
    "sum_of_eigenvalues_2d = l1_2 + l2_2\n",
    "print(sum_of_eigenvalues_2d.shape) "
   ]
  },
  {
   "cell_type": "markdown",
   "metadata": {},
   "source": [
    "**Ratio of eigenvalues:** $R_{\\lambda\\text{,2D}} = \\frac {\\lambda_\\text{2,2D}} {\\lambda_\\text{1,2D}}$"
   ]
  },
  {
   "cell_type": "code",
   "execution_count": 24,
   "metadata": {},
   "outputs": [
    {
     "name": "stdout",
     "output_type": "stream",
     "text": [
      "(753876, 1)\n"
     ]
    }
   ],
   "source": [
    "ratio_of_eigenvalues_2d = l2_2/l1_2\n",
    "print(ratio_of_eigenvalues_2d.shape)"
   ]
  },
  {
   "cell_type": "markdown",
   "metadata": {},
   "source": [
    "# Geometric 2D features\n",
    "\n"
   ]
  },
  {
   "cell_type": "markdown",
   "metadata": {},
   "source": [
    "**Radius of kNN (k nearest neighbors):** $r_{\\text{kNN,2D}}$ \n",
    "\n",
    "\n"
   ]
  },
  {
   "cell_type": "code",
   "execution_count": 25,
   "metadata": {},
   "outputs": [
    {
     "name": "stdout",
     "output_type": "stream",
     "text": [
      "(753876, 20, 2)\n",
      "(753876, 1, 2)\n",
      "(753876, 20)\n",
      "(753876, 1)\n"
     ]
    }
   ],
   "source": [
    "print(xyz[indices3d][:,:,0:2].shape)\n",
    "print(xy[:,np.newaxis,:].shape)\n",
    "dist_2d = xy[:,np.newaxis,:] - xyz[indices3d][:,:,0:2]\n",
    "radius_knn_2d = (np.max(np.linalg.norm(dist_2d,axis =-1),axis = -1)[:,np.newaxis])\n",
    "print(np.linalg.norm(dist_2d,axis =-1).shape)\n",
    "print(radius_knn_2d.shape)\n"
   ]
  },
  {
   "cell_type": "markdown",
   "metadata": {},
   "source": [
    "**Local point density:** $D_{\\text{2D}} = \\frac{k+1}{\\pi r_{\\text{kNN,2D}}^2}$"
   ]
  },
  {
   "cell_type": "code",
   "execution_count": 26,
   "metadata": {},
   "outputs": [
    {
     "name": "stdout",
     "output_type": "stream",
     "text": [
      "(753876, 1)\n"
     ]
    }
   ],
   "source": [
    "density_2d = ((k+1)/np.pi*radius_knn_2d**2.0)\n",
    "print(density_2d.shape)"
   ]
  },
  {
   "cell_type": "markdown",
   "metadata": {},
   "source": [
    "# Stack and save"
   ]
  },
  {
   "cell_type": "code",
   "execution_count": 27,
   "metadata": {},
   "outputs": [
    {
     "name": "stdout",
     "output_type": "stream",
     "text": [
      "(753876, 23, 1)\n"
     ]
    }
   ],
   "source": [
    "stack_of_features = np.stack((linearity, \n",
    "                              planarity, \n",
    "                              scattering, \n",
    "                              omnivariance, \n",
    "                              anisotropy, \n",
    "                              eigenentropy, \n",
    "                              sum_eigenvalues, \n",
    "                              change_of_curvature, \n",
    "                              radius_knn3d, \n",
    "                              density_3d, \n",
    "                              verticality, \n",
    "                              absolute_height, \n",
    "                              delta_z_knn3d, \n",
    "                              std_z,\n",
    "                              sum_of_eigenvalues_2d,\n",
    "                              ratio_of_eigenvalues_2d,\n",
    "                              radius_knn_2d,\n",
    "                              density_2d,\n",
    "                              l1,\n",
    "                              l2,\n",
    "                              l3,\n",
    "                              l1_2,\n",
    "                              l2_2\n",
    "                             ), axis=1)\n",
    "\n",
    "print(stack_of_features.shape)"
   ]
  },
  {
   "cell_type": "code",
   "execution_count": 28,
   "metadata": {},
   "outputs": [],
   "source": [
    "np.save('Features', stack_of_features)"
   ]
  },
  {
   "cell_type": "code",
   "execution_count": null,
   "metadata": {},
   "outputs": [],
   "source": []
  }
 ],
 "metadata": {
  "kernelspec": {
   "display_name": "Python 3 (ipykernel)",
   "language": "python",
   "name": "python3"
  },
  "language_info": {
   "codemirror_mode": {
    "name": "ipython",
    "version": 3
   },
   "file_extension": ".py",
   "mimetype": "text/x-python",
   "name": "python",
   "nbconvert_exporter": "python",
   "pygments_lexer": "ipython3",
   "version": "3.10.8"
  }
 },
 "nbformat": 4,
 "nbformat_minor": 4
}
